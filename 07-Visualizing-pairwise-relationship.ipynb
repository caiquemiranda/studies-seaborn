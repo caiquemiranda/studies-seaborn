{
 "cells": [
  {
   "attachments": {},
   "cell_type": "markdown",
   "metadata": {},
   "source": [
    "|Parameter | Description|\n",
    "|--|--|\n",
    "|data|Dataframe|\n",
    "|hue|Variable in data to map plot aspects to different colors.|\n",
    "|palette|Set of colors for mapping the hue variable|\n",
    "|kind|Kind of plot for the non-identity relationships. {‘scatter’, ‘reg’}|\n",
    "|diag_kind|Kind of plot for the diagonal subplots. {‘hist’, ‘kde’}|"
   ]
  },
  {
   "cell_type": "code",
   "execution_count": null,
   "metadata": {},
   "outputs": [],
   "source": [
    "import pandas as pd\n",
    "import seaborn as sb\n",
    "from matplotlib import pyplot as plt\n",
    "df = sb.load_dataset('iris')\n",
    "sb.set_style(\"ticks\")\n",
    "sb.pairplot(df,hue='species',diag_kind=\"kde\",kind=\"scatter\",palette=\"husl\")\n",
    "plt.show()"
   ]
  }
 ],
 "metadata": {
  "language_info": {
   "name": "python"
  },
  "orig_nbformat": 4
 },
 "nbformat": 4,
 "nbformat_minor": 2
}
