{
 "cells": [
  {
   "cell_type": "code",
   "execution_count": null,
   "metadata": {},
   "outputs": [],
   "source": [
    "import numpy as np\n",
    "from matplotlib import pyplot as plt\n",
    "def sinplot(flip=1):\n",
    "x = np.linspace(0, 14, 100)\n",
    "for i in range(1, 5):\n",
    "plt.plot(x, np.sin(x + i * .5) * (7 - i) * flip)\n",
    "sinplot()\n",
    "plt.show()"
   ]
  },
  {
   "cell_type": "code",
   "execution_count": null,
   "metadata": {},
   "outputs": [],
   "source": [
    "import numpy as np\n",
    "from matplotlib import pyplot as plt\n",
    "def sinplot(flip=1):\n",
    "x = np.linspace(0, 14, 100)\n",
    "for i in range(1, 5):\n",
    "plt.plot(x, np.sin(x + i * .5) * (7 - i) * flip)\n",
    "import seaborn as sb\n",
    "sb.set()\n",
    "sinplot()\n",
    "plt.show()"
   ]
  },
  {
   "attachments": {},
   "cell_type": "markdown",
   "metadata": {},
   "source": [
    "#### Seaborn Figure Styles"
   ]
  },
  {
   "cell_type": "code",
   "execution_count": null,
   "metadata": {},
   "outputs": [],
   "source": [
    "import numpy as np\n",
    "from matplotlib import pyplot as plt\n",
    "def sinplot(flip=1):\n",
    "x = np.linspace(0, 14, 100)\n",
    "for i in range(1, 5):\n",
    "plt.plot(x, np.sin(x + i * .5) * (7 - i) * flip)\n",
    "import seaborn as sb\n",
    "sb.set_style(\"whitegrid\")\n",
    "sinplot()\n",
    "plt.show()"
   ]
  },
  {
   "attachments": {},
   "cell_type": "markdown",
   "metadata": {},
   "source": [
    "#### Removing Axes Spines"
   ]
  },
  {
   "cell_type": "code",
   "execution_count": null,
   "metadata": {},
   "outputs": [],
   "source": [
    "import numpy as np\n",
    "from matplotlib import pyplot as plt\n",
    "def sinplot(flip=1):\n",
    "x = np.linspace(0, 14, 100)\n",
    "for i in range(1, 5):\n",
    "plt.plot(x, np.sin(x + i * .5) * (7 - i) * flip)\n",
    "import seaborn as sb\n",
    "sb.set_style(\"white\")\n",
    "sinplot()\n",
    "sb.despine()\n",
    "plt.show()"
   ]
  },
  {
   "attachments": {},
   "cell_type": "markdown",
   "metadata": {},
   "source": [
    "#### Overriding the Elements"
   ]
  },
  {
   "cell_type": "code",
   "execution_count": null,
   "metadata": {},
   "outputs": [],
   "source": [
    "import seaborn as sb\n",
    "print sb.axes_style"
   ]
  },
  {
   "cell_type": "code",
   "execution_count": null,
   "metadata": {},
   "outputs": [],
   "source": [
    "import numpy as np\n",
    "from matplotlib import pyplot as plt\n",
    "def sinplot(flip=1):\n",
    "x = np.linspace(0, 14, 100)\n",
    "for i in range(1, 5):\n",
    "plt.plot(x, np.sin(x + i * .5) * (7 - i) * flip)\n",
    "import seaborn as sb\n",
    "sb.set_style(\"darkgrid\", {'axes.axisbelow': False})\n",
    "sinplot()\n",
    "sb.despine()\n",
    "plt.show()"
   ]
  },
  {
   "attachments": {},
   "cell_type": "markdown",
   "metadata": {},
   "source": [
    "#### Scaling Plot Elements"
   ]
  },
  {
   "cell_type": "code",
   "execution_count": null,
   "metadata": {},
   "outputs": [],
   "source": [
    "import numpy as np\n",
    "from matplotlib import pyplot as plt\n",
    "def sinplot(flip=1):\n",
    "x = np.linspace(0, 14, 100)\n",
    "for i in range(1, 5):\n",
    "plt.plot(x, np.sin(x + i * .5) * (7 - i) * flip)\n",
    "import seaborn as sb\n",
    "sb.set_style(\"darkgrid\", {'axes.axisbelow': False})\n",
    "sinplot()\n",
    "sb.despine()\n",
    "plt.show()"
   ]
  },
  {
   "cell_type": "code",
   "execution_count": null,
   "metadata": {},
   "outputs": [],
   "source": []
  },
  {
   "cell_type": "code",
   "execution_count": null,
   "metadata": {},
   "outputs": [],
   "source": []
  },
  {
   "attachments": {},
   "cell_type": "markdown",
   "metadata": {},
   "source": [
    "#### End."
   ]
  }
 ],
 "metadata": {
  "language_info": {
   "name": "python"
  },
  "orig_nbformat": 4
 },
 "nbformat": 4,
 "nbformat_minor": 2
}
